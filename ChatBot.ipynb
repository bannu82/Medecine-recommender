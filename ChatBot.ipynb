{
 "cells": [
  {
   "cell_type": "code",
   "execution_count": 251,
   "id": "ebb4216f-7e34-4139-a0d6-404e1a74d5bb",
   "metadata": {},
   "outputs": [],
   "source": [
    "import pandas as pd"
   ]
  },
  {
   "cell_type": "code",
   "execution_count": 252,
   "id": "06253076-206a-46e5-b4ff-05afcf20558e",
   "metadata": {},
   "outputs": [],
   "source": [
    "f = open('dialogs.txt',encoding='utf-8')"
   ]
  },
  {
   "cell_type": "code",
   "execution_count": 253,
   "id": "ce47d952-218a-4962-ac09-0d83d2b1ffb3",
   "metadata": {},
   "outputs": [],
   "source": [
    "data =f.readlines()"
   ]
  },
  {
   "cell_type": "code",
   "execution_count": 254,
   "id": "8268307d-3a7c-4c6f-9b32-8c3e7af2194b",
   "metadata": {},
   "outputs": [],
   "source": [
    "import re\n",
    "input = []\n",
    "output = []\n",
    "for i in range(len(data)):\n",
    "    x = re.split('\\t' ,data[i])\n",
    "\n",
    "    input.append(x[0].strip('\\n'))\n",
    "    output.append(x[1].strip('\\n'))\n"
   ]
  },
  {
   "cell_type": "code",
   "execution_count": 255,
   "id": "3c7d416f-a4b9-476f-af0c-8b3bed3c01d8",
   "metadata": {},
   "outputs": [],
   "source": [
    "df = pd.DataFrame({'input' : input , 'output':output})\n",
    "# df.to_csv('msg.csv')"
   ]
  },
  {
   "cell_type": "code",
   "execution_count": 256,
   "id": "780582ae-9487-4a01-94f6-1d4f6b38fadb",
   "metadata": {},
   "outputs": [
    {
     "data": {
      "text/html": [
       "<div>\n",
       "<style scoped>\n",
       "    .dataframe tbody tr th:only-of-type {\n",
       "        vertical-align: middle;\n",
       "    }\n",
       "\n",
       "    .dataframe tbody tr th {\n",
       "        vertical-align: top;\n",
       "    }\n",
       "\n",
       "    .dataframe thead th {\n",
       "        text-align: right;\n",
       "    }\n",
       "</style>\n",
       "<table border=\"1\" class=\"dataframe\">\n",
       "  <thead>\n",
       "    <tr style=\"text-align: right;\">\n",
       "      <th></th>\n",
       "      <th>input</th>\n",
       "      <th>output</th>\n",
       "    </tr>\n",
       "  </thead>\n",
       "  <tbody>\n",
       "    <tr>\n",
       "      <th>1438</th>\n",
       "      <td>tell me about this patch.</td>\n",
       "      <td>the patch has glue. the hot iron melts the glu...</td>\n",
       "    </tr>\n",
       "    <tr>\n",
       "      <th>2272</th>\n",
       "      <td>she asked you about your pineapples?</td>\n",
       "      <td>i told her i had gotten the last two on the sh...</td>\n",
       "    </tr>\n",
       "    <tr>\n",
       "      <th>769</th>\n",
       "      <td>why did you get a poodle?</td>\n",
       "      <td>it's my mom's dog.</td>\n",
       "    </tr>\n",
       "    <tr>\n",
       "      <th>3464</th>\n",
       "      <td>but that's impossible.</td>\n",
       "      <td>officials said that it's possible.</td>\n",
       "    </tr>\n",
       "    <tr>\n",
       "      <th>1421</th>\n",
       "      <td>which would you prefer?</td>\n",
       "      <td>what do you mean?</td>\n",
       "    </tr>\n",
       "    <tr>\n",
       "      <th>3213</th>\n",
       "      <td>well, a dozen large eggs were only 99 cents.</td>\n",
       "      <td>that's a good deal.</td>\n",
       "    </tr>\n",
       "    <tr>\n",
       "      <th>77</th>\n",
       "      <td>it seems that it may rain today.</td>\n",
       "      <td>hopefully it will.</td>\n",
       "    </tr>\n",
       "    <tr>\n",
       "      <th>74</th>\n",
       "      <td>i really hope it rains today.</td>\n",
       "      <td>yeah, me too.</td>\n",
       "    </tr>\n",
       "    <tr>\n",
       "      <th>1146</th>\n",
       "      <td>i think i'll make a sandwich.</td>\n",
       "      <td>what kind?</td>\n",
       "    </tr>\n",
       "    <tr>\n",
       "      <th>1562</th>\n",
       "      <td>i don't have long distance service with my hom...</td>\n",
       "      <td>so how do you make long distance calls?</td>\n",
       "    </tr>\n",
       "  </tbody>\n",
       "</table>\n",
       "</div>"
      ],
      "text/plain": [
       "                                                  input  \\\n",
       "1438                          tell me about this patch.   \n",
       "2272               she asked you about your pineapples?   \n",
       "769                           why did you get a poodle?   \n",
       "3464                             but that's impossible.   \n",
       "1421                            which would you prefer?   \n",
       "3213       well, a dozen large eggs were only 99 cents.   \n",
       "77                     it seems that it may rain today.   \n",
       "74                        i really hope it rains today.   \n",
       "1146                      i think i'll make a sandwich.   \n",
       "1562  i don't have long distance service with my hom...   \n",
       "\n",
       "                                                 output  \n",
       "1438  the patch has glue. the hot iron melts the glu...  \n",
       "2272  i told her i had gotten the last two on the sh...  \n",
       "769                                  it's my mom's dog.  \n",
       "3464                 officials said that it's possible.  \n",
       "1421                                  what do you mean?  \n",
       "3213                                that's a good deal.  \n",
       "77                                   hopefully it will.  \n",
       "74                                        yeah, me too.  \n",
       "1146                                         what kind?  \n",
       "1562            so how do you make long distance calls?  "
      ]
     },
     "execution_count": 256,
     "metadata": {},
     "output_type": "execute_result"
    }
   ],
   "source": [
    "df.sample(10)\n"
   ]
  },
  {
   "cell_type": "code",
   "execution_count": 257,
   "id": "ce8fcd91-360a-44bb-ba7b-552aedc30c2f",
   "metadata": {},
   "outputs": [
    {
     "name": "stderr",
     "output_type": "stream",
     "text": [
      "[nltk_data] Downloading package stopwords to\n",
      "[nltk_data]     C:\\Users\\Bannu\\AppData\\Roaming\\nltk_data...\n",
      "[nltk_data]   Package stopwords is already up-to-date!\n"
     ]
    },
    {
     "data": {
      "text/plain": [
       "True"
      ]
     },
     "execution_count": 257,
     "metadata": {},
     "output_type": "execute_result"
    }
   ],
   "source": [
    "import nltk\n",
    "from nltk.corpus import stopwords\n",
    "nltk.download('stopwords')\n",
    "# stopwords.words('english')"
   ]
  },
  {
   "cell_type": "code",
   "execution_count": 258,
   "id": "16066e65-3d61-4c48-8077-37669f9d8607",
   "metadata": {},
   "outputs": [],
   "source": [
    "from nltk.stem.porter import PorterStemmer\n",
    "ps = PorterStemmer()\n"
   ]
  },
  {
   "cell_type": "code",
   "execution_count": null,
   "id": "5e5baa08-1956-4f66-8d94-24c22bcb6b33",
   "metadata": {},
   "outputs": [],
   "source": []
  },
  {
   "cell_type": "code",
   "execution_count": 259,
   "id": "7f00feec-759e-4b4d-b2cd-b1e74b25570a",
   "metadata": {},
   "outputs": [],
   "source": [
    "def stemmer(txt):\n",
    "    \n",
    "    y = []\n",
    "    for i in nltk.word_tokenize(txt):\n",
    "        y.append(ps.stem(i))\n",
    "    return ' '.join(y)\n",
    "    "
   ]
  },
  {
   "cell_type": "code",
   "execution_count": 260,
   "id": "6aa3b079-8b81-4354-b6fd-8eab64702cd4",
   "metadata": {},
   "outputs": [
    {
     "data": {
      "text/plain": [
       "''"
      ]
     },
     "execution_count": 260,
     "metadata": {},
     "output_type": "execute_result"
    }
   ],
   "source": [
    "stemmer(\"\")"
   ]
  },
  {
   "cell_type": "code",
   "execution_count": 261,
   "id": "6bb37255-4455-43f6-b83e-30f9b996f4f2",
   "metadata": {},
   "outputs": [],
   "source": [
    "# df['input'] = df['input'].apply(lambda x  : x.lower)\n",
    "# df['output'] = df['output'].apply(lambda x  : x.lower)"
   ]
  },
  {
   "cell_type": "code",
   "execution_count": 262,
   "id": "1a14407e-cda9-4872-b0e8-04811ab1679a",
   "metadata": {},
   "outputs": [
    {
     "data": {
      "text/html": [
       "<div>\n",
       "<style scoped>\n",
       "    .dataframe tbody tr th:only-of-type {\n",
       "        vertical-align: middle;\n",
       "    }\n",
       "\n",
       "    .dataframe tbody tr th {\n",
       "        vertical-align: top;\n",
       "    }\n",
       "\n",
       "    .dataframe thead th {\n",
       "        text-align: right;\n",
       "    }\n",
       "</style>\n",
       "<table border=\"1\" class=\"dataframe\">\n",
       "  <thead>\n",
       "    <tr style=\"text-align: right;\">\n",
       "      <th></th>\n",
       "      <th>&lt;lambda&gt;</th>\n",
       "    </tr>\n",
       "  </thead>\n",
       "  <tbody>\n",
       "    <tr>\n",
       "      <th>0</th>\n",
       "      <td>hi , how are you do ?</td>\n",
       "    </tr>\n",
       "    <tr>\n",
       "      <th>1</th>\n",
       "      <td>i 'm fine . how about yourself ?</td>\n",
       "    </tr>\n",
       "    <tr>\n",
       "      <th>2</th>\n",
       "      <td>i 'm pretti good . thank for ask .</td>\n",
       "    </tr>\n",
       "    <tr>\n",
       "      <th>3</th>\n",
       "      <td>no problem . so how have you been ?</td>\n",
       "    </tr>\n",
       "    <tr>\n",
       "      <th>4</th>\n",
       "      <td>i 've been great . what about you ?</td>\n",
       "    </tr>\n",
       "    <tr>\n",
       "      <th>...</th>\n",
       "      <td>...</td>\n",
       "    </tr>\n",
       "    <tr>\n",
       "      <th>3720</th>\n",
       "      <td>that 's a good question . mayb it 's not old a...</td>\n",
       "    </tr>\n",
       "    <tr>\n",
       "      <th>3721</th>\n",
       "      <td>are you right-hand ?</td>\n",
       "    </tr>\n",
       "    <tr>\n",
       "      <th>3722</th>\n",
       "      <td>ye . all my life .</td>\n",
       "    </tr>\n",
       "    <tr>\n",
       "      <th>3723</th>\n",
       "      <td>you 're wear out your right hand . stop use it...</td>\n",
       "    </tr>\n",
       "    <tr>\n",
       "      <th>3724</th>\n",
       "      <td>but i do all my write with my right hand .</td>\n",
       "    </tr>\n",
       "  </tbody>\n",
       "</table>\n",
       "<p>3725 rows × 1 columns</p>\n",
       "</div>"
      ],
      "text/plain": [
       "                                               <lambda>\n",
       "0                                 hi , how are you do ?\n",
       "1                      i 'm fine . how about yourself ?\n",
       "2                    i 'm pretti good . thank for ask .\n",
       "3                   no problem . so how have you been ?\n",
       "4                   i 've been great . what about you ?\n",
       "...                                                 ...\n",
       "3720  that 's a good question . mayb it 's not old a...\n",
       "3721                               are you right-hand ?\n",
       "3722                                 ye . all my life .\n",
       "3723  you 're wear out your right hand . stop use it...\n",
       "3724         but i do all my write with my right hand .\n",
       "\n",
       "[3725 rows x 1 columns]"
      ]
     },
     "execution_count": 262,
     "metadata": {},
     "output_type": "execute_result"
    }
   ],
   "source": [
    "df['input'].apply([lambda x: x.apply(stemmer)])"
   ]
  },
  {
   "cell_type": "code",
   "execution_count": null,
   "id": "47bb633b-8dbe-4641-a084-b529139ea610",
   "metadata": {},
   "outputs": [],
   "source": []
  },
  {
   "cell_type": "code",
   "execution_count": 263,
   "id": "fd462a1c-a550-44ad-8ad0-ecede4deb4f2",
   "metadata": {},
   "outputs": [],
   "source": [
    "from sklearn.feature_extraction.text import CountVectorizer\n",
    "cv = CountVectorizer(stop_words='english')\n",
    "vectors = cv.fit_transform(df['input']).toarray() \n",
    "\n"
   ]
  },
  {
   "cell_type": "code",
   "execution_count": 264,
   "id": "4e16f187-9859-47c6-9bf8-6866cf9f1487",
   "metadata": {},
   "outputs": [],
   "source": [
    "from sklearn.metrics.pairwise import cosine_similarity"
   ]
  },
  {
   "cell_type": "code",
   "execution_count": null,
   "id": "ef90e0cc-9b07-426e-9374-bfd35c55d18e",
   "metadata": {},
   "outputs": [],
   "source": []
  },
  {
   "cell_type": "code",
   "execution_count": 265,
   "id": "dbfabb6e-4e02-4fb5-8c4f-92947d8c381e",
   "metadata": {},
   "outputs": [],
   "source": [
    "prompt = \"how are u\"\n",
    "prompt = stemmer(prompt)\n",
    "input_vector = cv.transform([prompt])"
   ]
  },
  {
   "cell_type": "code",
   "execution_count": 266,
   "id": "97a2b436-a218-4a87-a148-4088bbea5877",
   "metadata": {},
   "outputs": [
    {
     "data": {
      "text/plain": [
       "array([0.])"
      ]
     },
     "execution_count": 266,
     "metadata": {},
     "output_type": "execute_result"
    }
   ],
   "source": [
    "s_score = cosine_similarity(input_vector,vectors).flatten()\n",
    "indx = s_score.argsort()[-1:][::-1]\n",
    "s_score[indx]"
   ]
  },
  {
   "cell_type": "code",
   "execution_count": 267,
   "id": "efe6dc2f-3f1f-4941-ae8d-36fbfb782541",
   "metadata": {},
   "outputs": [],
   "source": [
    "# df.output.iloc[indx]"
   ]
  },
  {
   "cell_type": "code",
   "execution_count": null,
   "id": "779056e5-b3cf-4803-be5d-daa25d7f136a",
   "metadata": {},
   "outputs": [],
   "source": []
  },
  {
   "cell_type": "code",
   "execution_count": null,
   "id": "48159a1c-a963-4e42-83fb-1dcebfd4c3c6",
   "metadata": {},
   "outputs": [],
   "source": []
  }
 ],
 "metadata": {
  "kernelspec": {
   "display_name": "Python 3 (ipykernel)",
   "language": "python",
   "name": "python3"
  },
  "language_info": {
   "codemirror_mode": {
    "name": "ipython",
    "version": 3
   },
   "file_extension": ".py",
   "mimetype": "text/x-python",
   "name": "python",
   "nbconvert_exporter": "python",
   "pygments_lexer": "ipython3",
   "version": "3.11.4"
  },
  "widgets": {
   "application/vnd.jupyter.widget-state+json": {
    "state": {},
    "version_major": 2,
    "version_minor": 0
   }
  }
 },
 "nbformat": 4,
 "nbformat_minor": 5
}
