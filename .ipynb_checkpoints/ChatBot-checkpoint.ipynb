{
 "cells": [
  {
   "cell_type": "code",
   "execution_count": 52,
   "id": "ebb4216f-7e34-4139-a0d6-404e1a74d5bb",
   "metadata": {},
   "outputs": [],
   "source": [
    "import pandas as pd"
   ]
  },
  {
   "cell_type": "code",
   "execution_count": 53,
   "id": "06253076-206a-46e5-b4ff-05afcf20558e",
   "metadata": {},
   "outputs": [],
   "source": [
    "f = open('dialogs.txt',encoding='utf-8')"
   ]
  },
  {
   "cell_type": "code",
   "execution_count": 54,
   "id": "ce47d952-218a-4962-ac09-0d83d2b1ffb3",
   "metadata": {},
   "outputs": [],
   "source": [
    "data =f.readlines()"
   ]
  },
  {
   "cell_type": "code",
   "execution_count": null,
   "id": "fa64b789-0fb0-4414-9b90-2f0e13e960b7",
   "metadata": {},
   "outputs": [],
   "source": []
  },
  {
   "cell_type": "code",
   "execution_count": null,
   "id": "663c425b-4f63-451d-8f66-93601d7c4f71",
   "metadata": {},
   "outputs": [],
   "source": []
  },
  {
   "cell_type": "code",
   "execution_count": 58,
   "id": "ae7ac611-32ff-407f-ac5c-a1feb487bbed",
   "metadata": {},
   "outputs": [
    {
     "data": {
      "text/plain": [
       "\"hi, how are you doing?\\ti'm fine. how about yourself?\\n\""
      ]
     },
     "execution_count": 58,
     "metadata": {},
     "output_type": "execute_result"
    }
   ],
   "source": [
    "\n"
   ]
  },
  {
   "cell_type": "code",
   "execution_count": 78,
   "id": "8268307d-3a7c-4c6f-9b32-8c3e7af2194b",
   "metadata": {},
   "outputs": [],
   "source": [
    "import re\n",
    "input = []\n",
    "output = []\n",
    "for i in range(len(data)):\n",
    "    x = re.split('\\t' ,data[i])\n",
    "\n",
    "    input.append(x[0].strip('\\n'))\n",
    "    output.append(x[1].strip('\\n'))\n"
   ]
  },
  {
   "cell_type": "code",
   "execution_count": 79,
   "id": "3c7d416f-a4b9-476f-af0c-8b3bed3c01d8",
   "metadata": {},
   "outputs": [],
   "source": [
    "df = pd.DataFrame({'input' : input , 'output':output})"
   ]
  },
  {
   "cell_type": "code",
   "execution_count": 82,
   "id": "780582ae-9487-4a01-94f6-1d4f6b38fadb",
   "metadata": {},
   "outputs": [
    {
     "data": {
      "text/html": [
       "<div>\n",
       "<style scoped>\n",
       "    .dataframe tbody tr th:only-of-type {\n",
       "        vertical-align: middle;\n",
       "    }\n",
       "\n",
       "    .dataframe tbody tr th {\n",
       "        vertical-align: top;\n",
       "    }\n",
       "\n",
       "    .dataframe thead th {\n",
       "        text-align: right;\n",
       "    }\n",
       "</style>\n",
       "<table border=\"1\" class=\"dataframe\">\n",
       "  <thead>\n",
       "    <tr style=\"text-align: right;\">\n",
       "      <th></th>\n",
       "      <th>input</th>\n",
       "      <th>output</th>\n",
       "    </tr>\n",
       "  </thead>\n",
       "  <tbody>\n",
       "    <tr>\n",
       "      <th>3667</th>\n",
       "      <td>but the swine flu just killed 20 people in mex...</td>\n",
       "      <td>the government says we have nothing to worry a...</td>\n",
       "    </tr>\n",
       "    <tr>\n",
       "      <th>2877</th>\n",
       "      <td>no, they don't. one is black and one is dark b...</td>\n",
       "      <td>yikes! thank you.</td>\n",
       "    </tr>\n",
       "    <tr>\n",
       "      <th>3213</th>\n",
       "      <td>well, a dozen large eggs were only 99 cents.</td>\n",
       "      <td>that's a good deal.</td>\n",
       "    </tr>\n",
       "    <tr>\n",
       "      <th>1777</th>\n",
       "      <td>yes, but the red hand was blinking.</td>\n",
       "      <td>so? that's a ticket?</td>\n",
       "    </tr>\n",
       "    <tr>\n",
       "      <th>3701</th>\n",
       "      <td>and they couldn't fix your problem?</td>\n",
       "      <td>they both said i have to live with it.</td>\n",
       "    </tr>\n",
       "    <tr>\n",
       "      <th>2322</th>\n",
       "      <td>i don't mean good-looking. i mean good-smelling.</td>\n",
       "      <td>oh. but that can be a curse.</td>\n",
       "    </tr>\n",
       "    <tr>\n",
       "      <th>3578</th>\n",
       "      <td>yes. i have to breathe through my mouth.</td>\n",
       "      <td>have you tried nose drops?</td>\n",
       "    </tr>\n",
       "    <tr>\n",
       "      <th>1841</th>\n",
       "      <td>i parked it right here.</td>\n",
       "      <td>are you sure?</td>\n",
       "    </tr>\n",
       "    <tr>\n",
       "      <th>3063</th>\n",
       "      <td>that sounds like a dream job.</td>\n",
       "      <td>it was, until one day my manager caught me.</td>\n",
       "    </tr>\n",
       "    <tr>\n",
       "      <th>2376</th>\n",
       "      <td>but we just got here.</td>\n",
       "      <td>did you see the waiter's hands?</td>\n",
       "    </tr>\n",
       "  </tbody>\n",
       "</table>\n",
       "</div>"
      ],
      "text/plain": [
       "                                                  input  \\\n",
       "3667  but the swine flu just killed 20 people in mex...   \n",
       "2877  no, they don't. one is black and one is dark b...   \n",
       "3213       well, a dozen large eggs were only 99 cents.   \n",
       "1777                yes, but the red hand was blinking.   \n",
       "3701                and they couldn't fix your problem?   \n",
       "2322   i don't mean good-looking. i mean good-smelling.   \n",
       "3578           yes. i have to breathe through my mouth.   \n",
       "1841                            i parked it right here.   \n",
       "3063                      that sounds like a dream job.   \n",
       "2376                              but we just got here.   \n",
       "\n",
       "                                                 output  \n",
       "3667  the government says we have nothing to worry a...  \n",
       "2877                                  yikes! thank you.  \n",
       "3213                                that's a good deal.  \n",
       "1777                               so? that's a ticket?  \n",
       "3701             they both said i have to live with it.  \n",
       "2322                       oh. but that can be a curse.  \n",
       "3578                         have you tried nose drops?  \n",
       "1841                                      are you sure?  \n",
       "3063        it was, until one day my manager caught me.  \n",
       "2376                    did you see the waiter's hands?  "
      ]
     },
     "execution_count": 82,
     "metadata": {},
     "output_type": "execute_result"
    }
   ],
   "source": [
    "\n",
    "df.sample(10)"
   ]
  },
  {
   "cell_type": "code",
   "execution_count": null,
   "id": "ce8fcd91-360a-44bb-ba7b-552aedc30c2f",
   "metadata": {},
   "outputs": [],
   "source": []
  }
 ],
 "metadata": {
  "kernelspec": {
   "display_name": "Python 3 (ipykernel)",
   "language": "python",
   "name": "python3"
  },
  "language_info": {
   "codemirror_mode": {
    "name": "ipython",
    "version": 3
   },
   "file_extension": ".py",
   "mimetype": "text/x-python",
   "name": "python",
   "nbconvert_exporter": "python",
   "pygments_lexer": "ipython3",
   "version": "3.11.4"
  },
  "widgets": {
   "application/vnd.jupyter.widget-state+json": {
    "state": {},
    "version_major": 2,
    "version_minor": 0
   }
  }
 },
 "nbformat": 4,
 "nbformat_minor": 5
}
