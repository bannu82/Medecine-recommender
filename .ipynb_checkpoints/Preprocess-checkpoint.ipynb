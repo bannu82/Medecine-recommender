{
 "cells": [
  {
   "cell_type": "code",
   "execution_count": 586,
   "id": "8a72b992-e4d3-41e1-a595-c700b646cbfd",
   "metadata": {},
   "outputs": [
    {
     "name": "stderr",
     "output_type": "stream",
     "text": [
      "[nltk_data] Downloading package stopwords to\n",
      "[nltk_data]     C:\\Users\\Bannu\\AppData\\Roaming\\nltk_data...\n",
      "[nltk_data]   Package stopwords is already up-to-date!\n",
      "[nltk_data] Downloading package punkt to\n",
      "[nltk_data]     C:\\Users\\Bannu\\AppData\\Roaming\\nltk_data...\n",
      "[nltk_data]   Package punkt is already up-to-date!\n"
     ]
    },
    {
     "data": {
      "text/plain": [
       "True"
      ]
     },
     "execution_count": 586,
     "metadata": {},
     "output_type": "execute_result"
    }
   ],
   "source": [
    "import pandas as pd \n",
    "from sklearn.feature_extraction.text import CountVectorizer\n",
    "from sklearn.metrics.pairwise import cosine_similarity\n",
    "import nltk\n",
    "import string\n",
    "from nltk.corpus import stopwords\n",
    "nltk.download('stopwords')\n",
    "nltk.download('punkt')"
   ]
  },
  {
   "cell_type": "code",
   "execution_count": 587,
   "id": "985c1575-aaab-47f9-96bb-023cb1182110",
   "metadata": {},
   "outputs": [
    {
     "data": {
      "text/html": [
       "<div>\n",
       "<style scoped>\n",
       "    .dataframe tbody tr th:only-of-type {\n",
       "        vertical-align: middle;\n",
       "    }\n",
       "\n",
       "    .dataframe tbody tr th {\n",
       "        vertical-align: top;\n",
       "    }\n",
       "\n",
       "    .dataframe thead th {\n",
       "        text-align: right;\n",
       "    }\n",
       "</style>\n",
       "<table border=\"1\" class=\"dataframe\">\n",
       "  <thead>\n",
       "    <tr style=\"text-align: right;\">\n",
       "      <th></th>\n",
       "      <th>Herb</th>\n",
       "      <th>Benefits</th>\n",
       "      <th>Climate</th>\n",
       "      <th>Medicinal_Uses</th>\n",
       "      <th>Method_of_Cultivation</th>\n",
       "      <th>words</th>\n",
       "    </tr>\n",
       "  </thead>\n",
       "  <tbody>\n",
       "    <tr>\n",
       "      <th>0</th>\n",
       "      <td>Ginger</td>\n",
       "      <td>Relieves nausea, indigestion, and bloating. An...</td>\n",
       "      <td>Prefers tropical and subtropical climates. Thr...</td>\n",
       "      <td>Treats digestive issues like nausea, gas, and ...</td>\n",
       "      <td>Plant rhizomes in well-drained, loamy soil. Re...</td>\n",
       "      <td>Ginger Zingiber officinale, Relieves nausea, i...</td>\n",
       "    </tr>\n",
       "    <tr>\n",
       "      <th>1</th>\n",
       "      <td>Ajwain</td>\n",
       "      <td>Improves digestion and relieves bloating and i...</td>\n",
       "      <td>Thrives in semi-arid, dry climates with modera...</td>\n",
       "      <td>Relieves indigestion, bloating, and gas. Helps...</td>\n",
       "      <td>Sow seeds in well-drained, sandy or loamy soil...</td>\n",
       "      <td>Ajwain ,Carom Seeds, Improves digestion and re...</td>\n",
       "    </tr>\n",
       "    <tr>\n",
       "      <th>2</th>\n",
       "      <td>Fennel</td>\n",
       "      <td>Relieves bloating and aids digestion. Acts as ...</td>\n",
       "      <td>Grows well in temperate to subtropical climate...</td>\n",
       "      <td>Eases digestion and relieves bloating. Treats ...</td>\n",
       "      <td>Sow seeds in well-drained soil with full sunli...</td>\n",
       "      <td>Fennel , Saunf, Foeniculum vulgare, Relieves b...</td>\n",
       "    </tr>\n",
       "    <tr>\n",
       "      <th>3</th>\n",
       "      <td>Peppermint</td>\n",
       "      <td>Soothes the digestive tract and relieves nause...</td>\n",
       "      <td>Grows in temperate climates. Prefers moist, we...</td>\n",
       "      <td>Treats indigestion, nausea, and bloating. Ease...</td>\n",
       "      <td>Propagate through cuttings or division in mois...</td>\n",
       "      <td>Peppermint, Podina ,Mentha piperita, Soothes t...</td>\n",
       "    </tr>\n",
       "    <tr>\n",
       "      <th>4</th>\n",
       "      <td>Mulethi</td>\n",
       "      <td>Soothes stomach ulcers and digestive discomfor...</td>\n",
       "      <td>Grows in temperate regions with warm summers a...</td>\n",
       "      <td>Treats heartburn, stomach ulcers, and sore thr...</td>\n",
       "      <td>Plant seeds or root cuttings in well-drained, ...</td>\n",
       "      <td>Licorice ,Mulethi, Glycyrrhiza glabra, Soothes...</td>\n",
       "    </tr>\n",
       "  </tbody>\n",
       "</table>\n",
       "</div>"
      ],
      "text/plain": [
       "         Herb                                           Benefits  \\\n",
       "0      Ginger  Relieves nausea, indigestion, and bloating. An...   \n",
       "1      Ajwain  Improves digestion and relieves bloating and i...   \n",
       "2      Fennel  Relieves bloating and aids digestion. Acts as ...   \n",
       "3  Peppermint  Soothes the digestive tract and relieves nause...   \n",
       "4     Mulethi  Soothes stomach ulcers and digestive discomfor...   \n",
       "\n",
       "                                             Climate  \\\n",
       "0  Prefers tropical and subtropical climates. Thr...   \n",
       "1  Thrives in semi-arid, dry climates with modera...   \n",
       "2  Grows well in temperate to subtropical climate...   \n",
       "3  Grows in temperate climates. Prefers moist, we...   \n",
       "4  Grows in temperate regions with warm summers a...   \n",
       "\n",
       "                                      Medicinal_Uses  \\\n",
       "0  Treats digestive issues like nausea, gas, and ...   \n",
       "1  Relieves indigestion, bloating, and gas. Helps...   \n",
       "2  Eases digestion and relieves bloating. Treats ...   \n",
       "3  Treats indigestion, nausea, and bloating. Ease...   \n",
       "4  Treats heartburn, stomach ulcers, and sore thr...   \n",
       "\n",
       "                               Method_of_Cultivation  \\\n",
       "0  Plant rhizomes in well-drained, loamy soil. Re...   \n",
       "1  Sow seeds in well-drained, sandy or loamy soil...   \n",
       "2  Sow seeds in well-drained soil with full sunli...   \n",
       "3  Propagate through cuttings or division in mois...   \n",
       "4  Plant seeds or root cuttings in well-drained, ...   \n",
       "\n",
       "                                               words  \n",
       "0  Ginger Zingiber officinale, Relieves nausea, i...  \n",
       "1  Ajwain ,Carom Seeds, Improves digestion and re...  \n",
       "2  Fennel , Saunf, Foeniculum vulgare, Relieves b...  \n",
       "3  Peppermint, Podina ,Mentha piperita, Soothes t...  \n",
       "4  Licorice ,Mulethi, Glycyrrhiza glabra, Soothes...  "
      ]
     },
     "execution_count": 587,
     "metadata": {},
     "output_type": "execute_result"
    }
   ],
   "source": [
    "data = {\n",
    "    \"Herb\": [\"Ginger\", \"Ajwain\", \"Fennel\", \"Peppermint\", \"Mulethi\", \"Bael\", \"Cumin\", \"Amla\", \"Haritaki\", \"Bibhitaki\"],\n",
    "    \"Benefits\": [\n",
    "        \"Relieves nausea, indigestion, and bloating. Anti-inflammatory properties for arthritis and muscle pain. Boosts immunity and fights respiratory infections.\",\n",
    "        \"Improves digestion and relieves bloating and indigestion. Alleviates respiratory issues like asthma and bronchitis. Antimicrobial and antifungal properties.\",\n",
    "        \"Relieves bloating and aids digestion. Acts as a natural antacid and promotes lactation. Supports detoxification and healthy vision.\",\n",
    "        \"Soothes the digestive tract and relieves nausea. Eases headaches and respiratory congestion. Boosts focus and mental clarity.\",\n",
    "        \"Soothes stomach ulcers and digestive discomfort. Supports respiratory health and reduces inflammation. Balances hormone levels and alleviates stress.\",\n",
    "        \"Treats digestive disorders like diarrhea and constipation. Supports liver health and detoxification. Helps manage diabetes and improves immune function.\",\n",
    "        \"Improves digestion and reduces bloating and gas. Supports nutrient absorption and metabolic function. Acts as an antioxidant and anti-inflammatory agent.\",\n",
    "        \"Boosts immunity and supports antioxidant protection. Improves digestion and regulates bowel movements. Enhances hair and skin health, and controls blood sugar levels.\",\n",
    "        \"Improves digestion and relieves constipation. Acts as a natural detoxifier and supports respiratory health. Strengthens immunity and promotes cognitive function.\",\n",
    "        \"Acts as a mild laxative and supports bowel movements. Reduces cholesterol and improves heart health. Supports liver detoxification and enhances respiratory function.\"\n",
    "    ],\n",
    "    \"Climate\": [\n",
    "        \"Prefers tropical and subtropical climates. Thrives in warm temperatures (25°C–30°C) with high humidity.\",\n",
    "        \"Thrives in semi-arid, dry climates with moderate temperatures. Grows well in light, well-drained soils.\",\n",
    "        \"Grows well in temperate to subtropical climates. Prefers sunny locations with well-drained soil.\",\n",
    "        \"Grows in temperate climates. Prefers moist, well-drained soils and partial shade.\",\n",
    "        \"Grows in temperate regions with warm summers and mild winters. Prefers sandy, well-drained soil.\",\n",
    "        \"Grows well in tropical and subtropical climates. Prefers hot, dry environments and can tolerate drought.\",\n",
    "        \"Thrives in arid and semi-arid climates. Requires warm, dry conditions with temperatures between 25°C and 30°C.\",\n",
    "        \"Thrives in tropical and subtropical climates. Prefers warm temperatures and moderate rainfall.\",\n",
    "        \"Grows in tropical and subtropical climates. Prefers hot, humid environments with adequate rainfall.\",\n",
    "        \"Thrives in tropical and subtropical climates. Requires warm, moist environments with good rainfall.\"\n",
    "    ],\n",
    "    \"Medicinal_Uses\": [\n",
    "        \"Treats digestive issues like nausea, gas, and acid reflux. Reduces inflammation and joint pain. Eases cold, cough, and respiratory discomfort.\",\n",
    "        \"Relieves indigestion, bloating, and gas. Helps treat coughs, bronchitis, and asthma. Eases menstrual pain and irregularities.\",\n",
    "        \"Eases digestion and relieves bloating. Treats colic in infants and supports lactation. Acts as a natural remedy for acidity.\",\n",
    "        \"Treats indigestion, nausea, and bloating. Eases cold, cough, and sinus congestion. Relieves headaches and muscle pain.\",\n",
    "        \"Treats heartburn, stomach ulcers, and sore throats. Supports adrenal function and helps with respiratory conditions. Reduces inflammation and balances hormone levels.\",\n",
    "        \"Treats diarrhea, dysentery, and constipation. Helps manage blood sugar levels in diabetes. Promotes liver health and supports digestion.\",\n",
    "        \"Eases digestion and reduces bloating and gas. Supports nutrient absorption and metabolism. Acts as an antioxidant, lowering cholesterol and blood sugar levels.\",\n",
    "        \"Treats constipation and digestive issues. Enhances liver function and detoxification. Helps manage blood sugar and cholesterol levels.\",\n",
    "        \"Treats constipation, indigestion, and bloating. Acts as a detoxifying agent for the digestive system. Eases cough, asthma, and bronchitis symptoms.\",\n",
    "        \"Treats constipation and indigestion. Promotes liver detoxification and lowers cholesterol. Eases symptoms of respiratory conditions like asthma and cough.\"\n",
    "    ],\n",
    "    \"Method_of_Cultivation\": [\n",
    "        \"Plant rhizomes in well-drained, loamy soil. Requires partial shade and humid conditions. Regular irrigation is essential, but avoid waterlogging. Harvest ginger 8-10 months after planting when leaves yellow.\",\n",
    "        \"Sow seeds in well-drained, sandy or loamy soil. Requires dry conditions with moderate irrigation. Thin seedlings to avoid overcrowding. Harvest after 4-5 months when seeds turn brown.\",\n",
    "        \"Sow seeds in well-drained soil with full sunlight. Requires moderate irrigation but avoid waterlogging. Thin out seedlings to allow space for growth. Harvest seeds after 4-5 months when they are fully mature.\",\n",
    "        \"Propagate through cuttings or division in moist, fertile soil. Requires frequent watering to maintain moist soil. Grows well in partial shade with regular harvesting of leaves. Ensure the soil is well-drained to avoid root rot.\",\n",
    "        \"Plant seeds or root cuttings in well-drained, sandy soil. Requires moderate watering and full sun exposure. Harvest roots after 3-4 years for medicinal use. Ensure proper drainage to avoid root rot.\",\n",
    "        \"Propagate through seeds or root suckers. Requires hot, dry climates with well-drained soil. Water sparingly, as bael trees are drought-tolerant. Harvest fruits after they mature, typically 2-3 years after planting.\",\n",
    "        \"Sow seeds in well-drained sandy soil in warm conditions. Requires minimal watering and well-ventilated soil. Harvest seeds when they turn brown, usually 3-4 months after sowing. Avoid overwatering, as cumin plants are drought-resistant.\",\n",
    "        \"Propagate through seeds or grafting. Requires loamy, well-drained soil and full sunlight. Irrigate regularly, especially during the fruiting season. Harvest fruit after 4-5 years, typically in winter.\",\n",
    "        \"Propagate through seeds in loamy, well-drained soil. Requires regular watering and full sunlight. Harvest fruits after 6-7 years when fully ripe. Ensure adequate spacing for trees to grow well.\",\n",
    "        \"Propagate through seeds in moist, loamy soil. Requires adequate water during the early growth stages. Harvest fruits when they ripen, typically 5-6 years after planting. Ensure proper drainage to avoid waterlogging.\"\n",
    "    ]\n",
    "}\n",
    "\n",
    "\n",
    "df = pd.DataFrame(data)\n",
    "\n",
    "df['words'] = df2.apply(lambda row :', '.join(row.values.astype(str)),axis=1)\n",
    "df.to_csv('data.csv' ,index=False)\n",
    "df.head()"
   ]
  },
  {
   "cell_type": "markdown",
   "id": "7b01d1d1-45aa-48ec-b7ca-4b6e98ad3b21",
   "metadata": {},
   "source": [
    "## Preprocess\n"
   ]
  },
  {
   "cell_type": "code",
   "execution_count": 581,
   "id": "9f95e7b1-05ce-47bf-83d6-7955933df315",
   "metadata": {},
   "outputs": [],
   "source": [
    "# df2 = pd.read_csv('data.csv')\n",
    "# df2"
   ]
  },
  {
   "cell_type": "code",
   "execution_count": 582,
   "id": "dc7f0d6a-4f23-4232-9cf5-05502322b0e6",
   "metadata": {},
   "outputs": [],
   "source": [
    "from nltk.stem.porter import PorterStemmer\n",
    "ps = PorterStemmer()\n",
    "\n",
    "def transform_text(text):\n",
    "    text = text.lower()\n",
    "    text = text.replace(r',', '')\n",
    "    text = nltk.word_tokenize(text)\n",
    "    \n",
    "    y = []\n",
    "\n",
    "    for i in text:\n",
    "        if i not in stopwords.words('english') and i not in string.punctuation:\n",
    "            y.append(i)\n",
    "\n",
    "    text = y[:]\n",
    "    y.clear()\n",
    "\n",
    "    for i in text:\n",
    "        y.append(ps.stem(i))\n",
    "    \n",
    "    return ' '.join(y)\n"
   ]
  },
  {
   "cell_type": "code",
   "execution_count": 583,
   "id": "d545096a-4893-4f2d-8570-c5dca2114d67",
   "metadata": {},
   "outputs": [],
   "source": [
    "df['words'] = df['words'].apply(transform_text)"
   ]
  },
  {
   "cell_type": "code",
   "execution_count": 584,
   "id": "8fe47afb-97d2-4951-a3f7-e3c794938087",
   "metadata": {},
   "outputs": [],
   "source": [
    "cv = CountVectorizer( stop_words='english' )\n",
    "vectors = cv.fit_transform(df['words']).toarray()"
   ]
  },
  {
   "cell_type": "code",
   "execution_count": 585,
   "id": "7a82d05d-17dd-4d18-bcde-15b023465d01",
   "metadata": {},
   "outputs": [
    {
     "name": "stdout",
     "output_type": "stream",
     "text": [
      "Recommended Medicines:\n",
      "Ajwain: Similarity Score = 0.27\n",
      "Haritaki: Similarity Score = 0.24\n",
      "Amla: Similarity Score = 0.11\n",
      "Fennel: Similarity Score = 0.11\n",
      "Ginger: Similarity Score = 0.11\n"
     ]
    }
   ],
   "source": [
    "def recommend_similar_medicines(user_input, df, cv, top_n=5):\n",
    "\n",
    "    user_vector = cv.transform([user_input.lower()])\n",
    "    similarity_scores = cosine_similarity(user_vector, vectors).flatten()\n",
    "    top_indices = similarity_scores.argsort()[-top_n:][::-1]\n",
    "    recommendations = df.iloc[top_indices]\n",
    "    recommendations_list = list(zip(recommendations['Herb'], similarity_scores[top_indices]))\n",
    "    \n",
    "    return recommendations_list\n",
    "\n",
    "user_input = 'i have fever digest asthma menstrual cough '\n",
    "\n",
    "# Recommend similar medicines\n",
    "recommended_medicines = recommend_similar_medicines(user_input, df, cv)\n",
    "print(\"Recommended Medicines:\")\n",
    "\n",
    "for medicine, score in recommended_medicines:\n",
    "    print(f\"{medicine}: Similarity Score = {score:.2f}\")"
   ]
  },
  {
   "cell_type": "code",
   "execution_count": 588,
   "id": "1c5031be-76ae-41a4-b4a4-8d9539ea1ea6",
   "metadata": {},
   "outputs": [],
   "source": [
    "import pickle"
   ]
  },
  {
   "cell_type": "code",
   "execution_count": null,
   "id": "5a2ceefc-3b41-448c-8eda-9048d13b6a76",
   "metadata": {},
   "outputs": [],
   "source": [
    "pickle.dump(vectors , open('vectors.pkl','wb'))\n",
    "pickle.dump(df.to_dict() , open('df.pkl' , 'wb'))"
   ]
  },
  {
   "cell_type": "code",
   "execution_count": null,
   "id": "03461749-1ef7-4ad0-8586-919936defaa6",
   "metadata": {},
   "outputs": [],
   "source": []
  }
 ],
 "metadata": {
  "kernelspec": {
   "display_name": "Python 3 (ipykernel)",
   "language": "python",
   "name": "python3"
  },
  "language_info": {
   "codemirror_mode": {
    "name": "ipython",
    "version": 3
   },
   "file_extension": ".py",
   "mimetype": "text/x-python",
   "name": "python",
   "nbconvert_exporter": "python",
   "pygments_lexer": "ipython3",
   "version": "3.11.4"
  },
  "widgets": {
   "application/vnd.jupyter.widget-state+json": {
    "state": {},
    "version_major": 2,
    "version_minor": 0
   }
  }
 },
 "nbformat": 4,
 "nbformat_minor": 5
}
