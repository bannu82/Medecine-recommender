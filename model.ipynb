{
 "cells": [
  {
   "cell_type": "code",
   "execution_count": 19,
   "id": "a0d25940-6292-4e87-be13-6bb9972dc82c",
   "metadata": {},
   "outputs": [
    {
     "name": "stderr",
     "output_type": "stream",
     "text": [
      "[nltk_data] Downloading package stopwords to\n",
      "[nltk_data]     C:\\Users\\Bannu\\AppData\\Roaming\\nltk_data...\n",
      "[nltk_data]   Package stopwords is already up-to-date!\n",
      "[nltk_data] Downloading package punkt to\n",
      "[nltk_data]     C:\\Users\\Bannu\\AppData\\Roaming\\nltk_data...\n",
      "[nltk_data]   Package punkt is already up-to-date!\n"
     ]
    },
    {
     "data": {
      "text/plain": [
       "True"
      ]
     },
     "execution_count": 19,
     "metadata": {},
     "output_type": "execute_result"
    }
   ],
   "source": [
    "import pandas as pd \n",
    "from sklearn.feature_extraction.text import CountVectorizer\n",
    "from sklearn.metrics.pairwise import cosine_similarity\n",
    "import nltk\n",
    "import string\n",
    "from nltk.corpus import stopwords\n",
    "from nltk.stem.porter import PorterStemmer\n",
    "\n",
    "nltk.download('stopwords')\n",
    "nltk.download('punkt')\n"
   ]
  },
  {
   "cell_type": "code",
   "execution_count": 21,
   "id": "c525bb86-09ce-4ed7-80f6-9d24c5235509",
   "metadata": {},
   "outputs": [
    {
     "name": "stderr",
     "output_type": "stream",
     "text": [
      "[nltk_data] Downloading package stopwords to\n",
      "[nltk_data]     C:\\Users\\Bannu\\AppData\\Roaming\\nltk_data...\n",
      "[nltk_data]   Package stopwords is already up-to-date!\n",
      "[nltk_data] Downloading package punkt to\n",
      "[nltk_data]     C:\\Users\\Bannu\\AppData\\Roaming\\nltk_data...\n",
      "[nltk_data]   Package punkt is already up-to-date!\n"
     ]
    }
   ],
   "source": [
    "class AVML:\n",
    "    import pandas as pd \n",
    "    from sklearn.feature_extraction.text import CountVectorizer\n",
    "    from sklearn.metrics.pairwise import cosine_similarity\n",
    "    import nltk\n",
    "    import string\n",
    "    from nltk.corpus import stopwords\n",
    "    from nltk.stem.porter import PorterStemmer\n",
    "    \n",
    "    nltk.download('stopwords')\n",
    "    nltk.download('punkt')\n",
    "    \n",
    "    def __init__(self):\n",
    "        self.cv = CountVectorizer( stop_words='english' )\n",
    "        self.vectors = None\n",
    "        self.df = None\n",
    "        self.ps = PorterStemmer() \n",
    "\n",
    "    def train(self,df):\n",
    "        df['words'] = df[['Herb' , 'Benefits' ,'Medicinal_Uses']].apply(lambda row :', '.join(row.values.astype(str)),axis=1)\n",
    "        df['words'] = df['words'].apply(self.transform_text)\n",
    "    \n",
    "        self.df =df\n",
    "        self.vectors = self.cv.fit_transform(self.df['words']).toarray()   \n",
    "\n",
    "    def recommend(self,input ,top_n=3):\n",
    "        trans_input = self.transform_text(input)\n",
    "        vector_input = self.cv.transform([trans_input])\n",
    "\n",
    "        similarity_scores = cosine_similarity(vector_input ,self.vectors).flatten()\n",
    "        top_indx = similarity_scores.argsort()[-top_n:][::-1]\n",
    "        \n",
    "        recomend = self.df.iloc[top_indx].reset_index()\n",
    "        similarity = similarity_scores[top_indx]\n",
    "        return recomend , similarity\n",
    "        \n",
    "\n",
    "    def transform_text(self,text):\n",
    "        text = text.lower()\n",
    "        text = text.replace(r',', '')\n",
    "        text = nltk.word_tokenize(text)\n",
    "        \n",
    "        y = []\n",
    "    \n",
    "        for i in text:\n",
    "            if i not in stopwords.words('english') and i not in string.punctuation:\n",
    "                y.append(i)\n",
    "             \n",
    "        text = y[:]\n",
    "        y.clear()\n",
    "        for i in text:\n",
    "            y.append(self.ps.stem(i))\n",
    "        \n",
    "        return ' '.join(y)\n"
   ]
  },
  {
   "cell_type": "code",
   "execution_count": 24,
   "id": "36ac45a8-9f63-472c-a444-7cd7e6d87848",
   "metadata": {},
   "outputs": [],
   "source": [
    "df = pd.read_csv('data.csv')\n",
    "\n",
    "model  = AVML()\n",
    "model.train(df)"
   ]
  },
  {
   "cell_type": "code",
   "execution_count": 25,
   "id": "b6944620-7aef-41e6-8ac2-c0f8a057c86f",
   "metadata": {},
   "outputs": [
    {
     "name": "stdout",
     "output_type": "stream",
     "text": [
      "        RECOMMENDATION              \n",
      "\n",
      "******************************\n",
      "\n",
      "Herb 1 : Haritaki \n",
      "S_Score : 0.33\n",
      "\n",
      "******************************\n",
      "\n",
      "Herb 2 : Bael \n",
      "S_Score : 0.28\n",
      "\n",
      "******************************\n"
     ]
    }
   ],
   "source": [
    "pred , similarity = model.recommend('i have constipation ', top_n=2)\n",
    "print(\"        RECOMMENDATION              \\n\")\n",
    "for i in range(pred.shape[0]):\n",
    "    print(\"*\"*30)\n",
    "    print()\n",
    "    print(f\"Herb {i+1} : {pred['Herb'][i]} \")\n",
    "    print(f'S_Score : {similarity[i].round(2)}')\n",
    "    print()\n",
    "print(\"*\"*30)"
   ]
  },
  {
   "cell_type": "code",
   "execution_count": 23,
   "id": "e37970d0-9b72-4b29-a5be-1cc35de3f8de",
   "metadata": {},
   "outputs": [],
   "source": [
    "import pickle\n",
    "\n",
    "# Train your model first\n",
    "df = pd.read_csv('data.csv')\n",
    "model = AVML()\n",
    "model.train(df)\n",
    "\n",
    "# Save the model to a file using pickle\n",
    "with open('avml_model.pkl', 'wb') as file:\n",
    "    pickle.dump(model, file)\n"
   ]
  },
  {
   "cell_type": "code",
   "execution_count": null,
   "id": "1836403d-56e6-473f-9a1e-35190db768e4",
   "metadata": {},
   "outputs": [],
   "source": []
  },
  {
   "cell_type": "code",
   "execution_count": null,
   "id": "72611e96-7f41-4892-bf72-e3c87810c828",
   "metadata": {},
   "outputs": [],
   "source": [
    "\n",
    "\n"
   ]
  },
  {
   "cell_type": "code",
   "execution_count": null,
   "id": "6784e1a2-13f2-41e3-8313-c329e5ff958d",
   "metadata": {},
   "outputs": [],
   "source": [
    "\n"
   ]
  },
  {
   "cell_type": "code",
   "execution_count": null,
   "id": "05f1488b-4725-4154-ba87-08be7ac0dd60",
   "metadata": {},
   "outputs": [],
   "source": []
  }
 ],
 "metadata": {
  "kernelspec": {
   "display_name": "Python 3 (ipykernel)",
   "language": "python",
   "name": "python3"
  },
  "language_info": {
   "codemirror_mode": {
    "name": "ipython",
    "version": 3
   },
   "file_extension": ".py",
   "mimetype": "text/x-python",
   "name": "python",
   "nbconvert_exporter": "python",
   "pygments_lexer": "ipython3",
   "version": "3.11.4"
  },
  "widgets": {
   "application/vnd.jupyter.widget-state+json": {
    "state": {},
    "version_major": 2,
    "version_minor": 0
   }
  }
 },
 "nbformat": 4,
 "nbformat_minor": 5
}
